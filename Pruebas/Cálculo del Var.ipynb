{
 "cells": [
  {
   "cell_type": "markdown",
   "metadata": {},
   "source": [
    "# Opción uno"
   ]
  },
  {
   "cell_type": "markdown",
   "metadata": {},
   "source": [
    "## Para un solo activo"
   ]
  },
  {
   "cell_type": "code",
   "execution_count": 12,
   "metadata": {},
   "outputs": [],
   "source": [
    "#Importamos la líbrerías necesarias\n",
    "#Manipulación de datos\n",
    "import numpy as np\n",
    "import pandas as pd\n",
    "\n",
    "#Gráficas\n",
    "import matplotlib.pyplot as plt\n",
    "import seaborn\n",
    "import matplotlib.mlab as mlab\n",
    "\n",
    "#Cálculos estadísticos\n",
    "from scipy.stats import norm\n",
    "\n",
    "#Obtención de información\n",
    "import yfinance as yf\n",
    "\n",
    "#Tabular data output\n",
    "from tabulate import tabulate"
   ]
  },
  {
   "cell_type": "code",
   "execution_count": 13,
   "metadata": {},
   "outputs": [
    {
     "name": "stdout",
     "output_type": "stream",
     "text": [
      "[*********************100%***********************]  1 of 1 completed\n"
     ]
    },
    {
     "data": {
      "text/html": [
       "<div>\n",
       "<style scoped>\n",
       "    .dataframe tbody tr th:only-of-type {\n",
       "        vertical-align: middle;\n",
       "    }\n",
       "\n",
       "    .dataframe tbody tr th {\n",
       "        vertical-align: top;\n",
       "    }\n",
       "\n",
       "    .dataframe thead th {\n",
       "        text-align: right;\n",
       "    }\n",
       "</style>\n",
       "<table border=\"1\" class=\"dataframe\">\n",
       "  <thead>\n",
       "    <tr style=\"text-align: right;\">\n",
       "      <th></th>\n",
       "      <th>Open</th>\n",
       "      <th>High</th>\n",
       "      <th>Low</th>\n",
       "      <th>Close</th>\n",
       "      <th>Adj Close</th>\n",
       "      <th>Volume</th>\n",
       "    </tr>\n",
       "    <tr>\n",
       "      <th>Date</th>\n",
       "      <th></th>\n",
       "      <th></th>\n",
       "      <th></th>\n",
       "      <th></th>\n",
       "      <th></th>\n",
       "      <th></th>\n",
       "    </tr>\n",
       "  </thead>\n",
       "  <tbody>\n",
       "    <tr>\n",
       "      <td>2012-05-18</td>\n",
       "      <td>42.049999</td>\n",
       "      <td>45.000000</td>\n",
       "      <td>38.000000</td>\n",
       "      <td>38.230000</td>\n",
       "      <td>38.230000</td>\n",
       "      <td>573576400</td>\n",
       "    </tr>\n",
       "    <tr>\n",
       "      <td>2012-05-21</td>\n",
       "      <td>36.529999</td>\n",
       "      <td>36.660000</td>\n",
       "      <td>33.000000</td>\n",
       "      <td>34.029999</td>\n",
       "      <td>34.029999</td>\n",
       "      <td>168192700</td>\n",
       "    </tr>\n",
       "    <tr>\n",
       "      <td>2012-05-22</td>\n",
       "      <td>32.610001</td>\n",
       "      <td>33.590000</td>\n",
       "      <td>30.940001</td>\n",
       "      <td>31.000000</td>\n",
       "      <td>31.000000</td>\n",
       "      <td>101786600</td>\n",
       "    </tr>\n",
       "    <tr>\n",
       "      <td>2012-05-23</td>\n",
       "      <td>31.370001</td>\n",
       "      <td>32.500000</td>\n",
       "      <td>31.360001</td>\n",
       "      <td>32.000000</td>\n",
       "      <td>32.000000</td>\n",
       "      <td>73600000</td>\n",
       "    </tr>\n",
       "    <tr>\n",
       "      <td>2012-05-24</td>\n",
       "      <td>32.950001</td>\n",
       "      <td>33.209999</td>\n",
       "      <td>31.770000</td>\n",
       "      <td>33.029999</td>\n",
       "      <td>33.029999</td>\n",
       "      <td>50237200</td>\n",
       "    </tr>\n",
       "    <tr>\n",
       "      <td>...</td>\n",
       "      <td>...</td>\n",
       "      <td>...</td>\n",
       "      <td>...</td>\n",
       "      <td>...</td>\n",
       "      <td>...</td>\n",
       "      <td>...</td>\n",
       "    </tr>\n",
       "    <tr>\n",
       "      <td>2018-01-25</td>\n",
       "      <td>187.949997</td>\n",
       "      <td>188.619995</td>\n",
       "      <td>186.600006</td>\n",
       "      <td>187.479996</td>\n",
       "      <td>187.479996</td>\n",
       "      <td>17377700</td>\n",
       "    </tr>\n",
       "    <tr>\n",
       "      <td>2018-01-26</td>\n",
       "      <td>187.750000</td>\n",
       "      <td>190.000000</td>\n",
       "      <td>186.809998</td>\n",
       "      <td>190.000000</td>\n",
       "      <td>190.000000</td>\n",
       "      <td>17759200</td>\n",
       "    </tr>\n",
       "    <tr>\n",
       "      <td>2018-01-29</td>\n",
       "      <td>188.750000</td>\n",
       "      <td>188.839996</td>\n",
       "      <td>185.630005</td>\n",
       "      <td>185.979996</td>\n",
       "      <td>185.979996</td>\n",
       "      <td>20453200</td>\n",
       "    </tr>\n",
       "    <tr>\n",
       "      <td>2018-01-30</td>\n",
       "      <td>187.619995</td>\n",
       "      <td>188.179993</td>\n",
       "      <td>181.839996</td>\n",
       "      <td>187.119995</td>\n",
       "      <td>187.119995</td>\n",
       "      <td>20858600</td>\n",
       "    </tr>\n",
       "    <tr>\n",
       "      <td>2018-01-31</td>\n",
       "      <td>188.369995</td>\n",
       "      <td>189.830002</td>\n",
       "      <td>185.220001</td>\n",
       "      <td>186.889999</td>\n",
       "      <td>186.889999</td>\n",
       "      <td>43275100</td>\n",
       "    </tr>\n",
       "  </tbody>\n",
       "</table>\n",
       "<p>1435 rows × 6 columns</p>\n",
       "</div>"
      ],
      "text/plain": [
       "                  Open        High         Low       Close   Adj Close  \\\n",
       "Date                                                                     \n",
       "2012-05-18   42.049999   45.000000   38.000000   38.230000   38.230000   \n",
       "2012-05-21   36.529999   36.660000   33.000000   34.029999   34.029999   \n",
       "2012-05-22   32.610001   33.590000   30.940001   31.000000   31.000000   \n",
       "2012-05-23   31.370001   32.500000   31.360001   32.000000   32.000000   \n",
       "2012-05-24   32.950001   33.209999   31.770000   33.029999   33.029999   \n",
       "...                ...         ...         ...         ...         ...   \n",
       "2018-01-25  187.949997  188.619995  186.600006  187.479996  187.479996   \n",
       "2018-01-26  187.750000  190.000000  186.809998  190.000000  190.000000   \n",
       "2018-01-29  188.750000  188.839996  185.630005  185.979996  185.979996   \n",
       "2018-01-30  187.619995  188.179993  181.839996  187.119995  187.119995   \n",
       "2018-01-31  188.369995  189.830002  185.220001  186.889999  186.889999   \n",
       "\n",
       "               Volume  \n",
       "Date                   \n",
       "2012-05-18  573576400  \n",
       "2012-05-21  168192700  \n",
       "2012-05-22  101786600  \n",
       "2012-05-23   73600000  \n",
       "2012-05-24   50237200  \n",
       "...               ...  \n",
       "2018-01-25   17377700  \n",
       "2018-01-26   17759200  \n",
       "2018-01-29   20453200  \n",
       "2018-01-30   20858600  \n",
       "2018-01-31   43275100  \n",
       "\n",
       "[1435 rows x 6 columns]"
      ]
     },
     "execution_count": 13,
     "metadata": {},
     "output_type": "execute_result"
    }
   ],
   "source": [
    "#Obtener los datos de Yahoo! Finance\n",
    "df = yf.download('FB', '2012-01-01', '2018-01-31')\n",
    "df"
   ]
  },
  {
   "cell_type": "code",
   "execution_count": 14,
   "metadata": {},
   "outputs": [
    {
     "data": {
      "text/html": [
       "<div>\n",
       "<style scoped>\n",
       "    .dataframe tbody tr th:only-of-type {\n",
       "        vertical-align: middle;\n",
       "    }\n",
       "\n",
       "    .dataframe tbody tr th {\n",
       "        vertical-align: top;\n",
       "    }\n",
       "\n",
       "    .dataframe thead th {\n",
       "        text-align: right;\n",
       "    }\n",
       "</style>\n",
       "<table border=\"1\" class=\"dataframe\">\n",
       "  <thead>\n",
       "    <tr style=\"text-align: right;\">\n",
       "      <th></th>\n",
       "      <th>Open</th>\n",
       "      <th>High</th>\n",
       "      <th>Low</th>\n",
       "      <th>Close</th>\n",
       "      <th>Adj Close</th>\n",
       "      <th>Volume</th>\n",
       "      <th>returns</th>\n",
       "    </tr>\n",
       "    <tr>\n",
       "      <th>Date</th>\n",
       "      <th></th>\n",
       "      <th></th>\n",
       "      <th></th>\n",
       "      <th></th>\n",
       "      <th></th>\n",
       "      <th></th>\n",
       "      <th></th>\n",
       "    </tr>\n",
       "  </thead>\n",
       "  <tbody>\n",
       "    <tr>\n",
       "      <td>2012-05-18</td>\n",
       "      <td>42.049999</td>\n",
       "      <td>45.000000</td>\n",
       "      <td>38.000000</td>\n",
       "      <td>38.230000</td>\n",
       "      <td>38.230000</td>\n",
       "      <td>573576400</td>\n",
       "      <td>NaN</td>\n",
       "    </tr>\n",
       "    <tr>\n",
       "      <td>2012-05-21</td>\n",
       "      <td>36.529999</td>\n",
       "      <td>36.660000</td>\n",
       "      <td>33.000000</td>\n",
       "      <td>34.029999</td>\n",
       "      <td>34.029999</td>\n",
       "      <td>168192700</td>\n",
       "      <td>-0.109861</td>\n",
       "    </tr>\n",
       "    <tr>\n",
       "      <td>2012-05-22</td>\n",
       "      <td>32.610001</td>\n",
       "      <td>33.590000</td>\n",
       "      <td>30.940001</td>\n",
       "      <td>31.000000</td>\n",
       "      <td>31.000000</td>\n",
       "      <td>101786600</td>\n",
       "      <td>-0.089039</td>\n",
       "    </tr>\n",
       "    <tr>\n",
       "      <td>2012-05-23</td>\n",
       "      <td>31.370001</td>\n",
       "      <td>32.500000</td>\n",
       "      <td>31.360001</td>\n",
       "      <td>32.000000</td>\n",
       "      <td>32.000000</td>\n",
       "      <td>73600000</td>\n",
       "      <td>0.032258</td>\n",
       "    </tr>\n",
       "    <tr>\n",
       "      <td>2012-05-24</td>\n",
       "      <td>32.950001</td>\n",
       "      <td>33.209999</td>\n",
       "      <td>31.770000</td>\n",
       "      <td>33.029999</td>\n",
       "      <td>33.029999</td>\n",
       "      <td>50237200</td>\n",
       "      <td>0.032187</td>\n",
       "    </tr>\n",
       "    <tr>\n",
       "      <td>...</td>\n",
       "      <td>...</td>\n",
       "      <td>...</td>\n",
       "      <td>...</td>\n",
       "      <td>...</td>\n",
       "      <td>...</td>\n",
       "      <td>...</td>\n",
       "      <td>...</td>\n",
       "    </tr>\n",
       "    <tr>\n",
       "      <td>2018-01-25</td>\n",
       "      <td>187.949997</td>\n",
       "      <td>188.619995</td>\n",
       "      <td>186.600006</td>\n",
       "      <td>187.479996</td>\n",
       "      <td>187.479996</td>\n",
       "      <td>17377700</td>\n",
       "      <td>0.004985</td>\n",
       "    </tr>\n",
       "    <tr>\n",
       "      <td>2018-01-26</td>\n",
       "      <td>187.750000</td>\n",
       "      <td>190.000000</td>\n",
       "      <td>186.809998</td>\n",
       "      <td>190.000000</td>\n",
       "      <td>190.000000</td>\n",
       "      <td>17759200</td>\n",
       "      <td>0.013441</td>\n",
       "    </tr>\n",
       "    <tr>\n",
       "      <td>2018-01-29</td>\n",
       "      <td>188.750000</td>\n",
       "      <td>188.839996</td>\n",
       "      <td>185.630005</td>\n",
       "      <td>185.979996</td>\n",
       "      <td>185.979996</td>\n",
       "      <td>20453200</td>\n",
       "      <td>-0.021158</td>\n",
       "    </tr>\n",
       "    <tr>\n",
       "      <td>2018-01-30</td>\n",
       "      <td>187.619995</td>\n",
       "      <td>188.179993</td>\n",
       "      <td>181.839996</td>\n",
       "      <td>187.119995</td>\n",
       "      <td>187.119995</td>\n",
       "      <td>20858600</td>\n",
       "      <td>0.006130</td>\n",
       "    </tr>\n",
       "    <tr>\n",
       "      <td>2018-01-31</td>\n",
       "      <td>188.369995</td>\n",
       "      <td>189.830002</td>\n",
       "      <td>185.220001</td>\n",
       "      <td>186.889999</td>\n",
       "      <td>186.889999</td>\n",
       "      <td>43275100</td>\n",
       "      <td>-0.001229</td>\n",
       "    </tr>\n",
       "  </tbody>\n",
       "</table>\n",
       "<p>1435 rows × 7 columns</p>\n",
       "</div>"
      ],
      "text/plain": [
       "                  Open        High         Low       Close   Adj Close  \\\n",
       "Date                                                                     \n",
       "2012-05-18   42.049999   45.000000   38.000000   38.230000   38.230000   \n",
       "2012-05-21   36.529999   36.660000   33.000000   34.029999   34.029999   \n",
       "2012-05-22   32.610001   33.590000   30.940001   31.000000   31.000000   \n",
       "2012-05-23   31.370001   32.500000   31.360001   32.000000   32.000000   \n",
       "2012-05-24   32.950001   33.209999   31.770000   33.029999   33.029999   \n",
       "...                ...         ...         ...         ...         ...   \n",
       "2018-01-25  187.949997  188.619995  186.600006  187.479996  187.479996   \n",
       "2018-01-26  187.750000  190.000000  186.809998  190.000000  190.000000   \n",
       "2018-01-29  188.750000  188.839996  185.630005  185.979996  185.979996   \n",
       "2018-01-30  187.619995  188.179993  181.839996  187.119995  187.119995   \n",
       "2018-01-31  188.369995  189.830002  185.220001  186.889999  186.889999   \n",
       "\n",
       "               Volume   returns  \n",
       "Date                             \n",
       "2012-05-18  573576400       NaN  \n",
       "2012-05-21  168192700 -0.109861  \n",
       "2012-05-22  101786600 -0.089039  \n",
       "2012-05-23   73600000  0.032258  \n",
       "2012-05-24   50237200  0.032187  \n",
       "...               ...       ...  \n",
       "2018-01-25   17377700  0.004985  \n",
       "2018-01-26   17759200  0.013441  \n",
       "2018-01-29   20453200 -0.021158  \n",
       "2018-01-30   20858600  0.006130  \n",
       "2018-01-31   43275100 -0.001229  \n",
       "\n",
       "[1435 rows x 7 columns]"
      ]
     },
     "execution_count": 14,
     "metadata": {},
     "output_type": "execute_result"
    }
   ],
   "source": [
    "#Calcular los rendimientos\n",
    "df['returns'] = df['Close'].pct_change()\n",
    "df"
   ]
  },
  {
   "cell_type": "code",
   "execution_count": 15,
   "metadata": {},
   "outputs": [],
   "source": [
    "#Calcular la media y desviación estándar de los rendimientos\n",
    "mean    = np.mean(df['returns'])\n",
    "std_dev = np.std(df['returns'])"
   ]
  },
  {
   "cell_type": "code",
   "execution_count": 16,
   "metadata": {},
   "outputs": [
    {
     "name": "stderr",
     "output_type": "stream",
     "text": [
      "C:\\ProgramData\\Anaconda3\\lib\\site-packages\\pandas\\plotting\\_matplotlib\\hist.py:316: MatplotlibDeprecationWarning: \n",
      "The 'normed' kwarg was deprecated in Matplotlib 2.1 and will be removed in 3.1. Use 'density' instead.\n",
      "  ax.hist(values, bins=bins, **kwds)\n"
     ]
    },
    {
     "data": {
      "text/plain": [
       "<matplotlib.axes._subplots.AxesSubplot at 0x2658ef7bb88>"
      ]
     },
     "execution_count": 16,
     "metadata": {},
     "output_type": "execute_result"
    },
    {
     "data": {
      "image/png": "[encoded data removed]",
      "text/plain": [
       "<Figure size 432x288 with 1 Axes>"
      ]
     },
     "metadata": {
      "needs_background": "light"
     },
     "output_type": "display_data"
    }
   ],
   "source": [
    "#Hacemos la gráfica de los rendimientos dy de una normal estándar\n",
    "df['returns'].hist(bins=40, normed = True, histtype = 'stepfilled', alpha=0.5)\n",
    "#x= np.linspace(mean -3*std_dev, mean+3*std_dev, 100)\n",
    "#plt.plot(x, mlab.density(x, mean, std_dev), \"r\")\n",
    "#plt.show"
   ]
  },
  {
   "cell_type": "code",
   "execution_count": 17,
   "metadata": {},
   "outputs": [
    {
     "name": "stdout",
     "output_type": "stream",
     "text": [
      "Confidence level      Value at Risk\n",
      "------------------  ---------------\n",
      "90%                      -0.0284687\n",
      "95%                      -0.0369281\n",
      "99%                      -0.0527964\n"
     ]
    }
   ],
   "source": [
    "#Cálculo del VaR para niveles de confianza del 90,95,99\n",
    "var_90 =norm.ppf(1-0.9, mean, std_dev)\n",
    "var_95 =norm.ppf(1-0.95, mean, std_dev)\n",
    "var_99 =norm.ppf(1-0.99, mean, std_dev)\n",
    "\n",
    "print(tabulate([['90%', var_90], ['95%', var_95],['99%', var_99]], headers = [\"Confidence level\", \"Value at Risk\"]))"
   ]
  },
  {
   "cell_type": "markdown",
   "metadata": {},
   "source": [
    "## Para muchos activos"
   ]
  },
  {
   "cell_type": "code",
   "execution_count": 19,
   "metadata": {},
   "outputs": [],
   "source": [
    "#Librerías requeridas\n",
    "import numpy as np\n",
    "import pandas as pd\n",
    "import quandl\n",
    "import matplotlib.pyplot as plt\n",
    "from matplotlib import style"
   ]
  },
  {
   "cell_type": "code",
   "execution_count": 20,
   "metadata": {},
   "outputs": [],
   "source": [
    "#Extending the Dataset to 5 different assets, combining them into a Portfolio with alternative exposures.\n",
    "tickers = [\"WIKI/BAC.4\", \"WIKI/AAPL.4\", \"WIKI/NKE.4\", \"WIKI/NFLX.4\", \"WIKI/AMZN.4\"]\n",
    "exposures = [1000000, 400000, 3000000, 200000, 10000000]\n",
    "df = quandl.get(tickers, start_date=\"2010-12-31\", end_date=\"2018-12-31\", collapse=\"daily\")"
   ]
  },
  {
   "cell_type": "code",
   "execution_count": 21,
   "metadata": {},
   "outputs": [],
   "source": [
    "#Returns computation\n",
    "percentage = df.pct_change()"
   ]
  },
  {
   "cell_type": "code",
   "execution_count": 22,
   "metadata": {},
   "outputs": [],
   "source": [
    "#Different Dollar Exposures into Portfolio\n",
    "value_ptf = percentage * exposures\n",
    "value_ptf['Value of Portfolio'] = value_ptf.sum(axis=1)"
   ]
  },
  {
   "cell_type": "code",
   "execution_count": 23,
   "metadata": {},
   "outputs": [
    {
     "name": "stdout",
     "output_type": "stream",
     "text": [
      "            WIKI/BAC - Close  WIKI/AAPL - Close  WIKI/NKE - Close  \\\n",
      "Date                                                                \n",
      "2010-12-31               NaN                NaN               NaN   \n",
      "2011-01-03      63718.140930        8692.956349      23530.789042   \n",
      "2011-01-04       3523.608175        2087.568650     -73876.176095   \n",
      "2011-01-05      18258.426966        3272.057714      19649.874955   \n",
      "2011-01-06      -4137.931034        -323.353293     -26975.863701   \n",
      "...                      ...                ...               ...   \n",
      "2018-03-21      -3439.649781       -9061.858023     -20209.580838   \n",
      "2018-03-22     -41418.261688       -5663.572138     -87264.506405   \n",
      "2018-03-23     -45171.849427       -9251.088276       9779.571562   \n",
      "2018-03-26      43537.881385       18988.723172      58950.951570   \n",
      "2018-03-27     -30223.390276      -10256.410256      12291.350531   \n",
      "\n",
      "            WIKI/NFLX - Close  WIKI/AMZN - Close  Value of Portfolio  \n",
      "Date                                                                  \n",
      "2010-12-31                NaN                NaN            0.000000  \n",
      "2011-01-03        3084.803643      234444.444444       333471.134408  \n",
      "2011-01-04        3318.199652       42883.508848       -22063.290769  \n",
      "2011-01-05       -1808.457849      130263.229015       169635.130801  \n",
      "2011-01-06       -1936.237690      -83235.513819      -116608.899538  \n",
      "...                       ...                ...                 ...  \n",
      "2018-03-21        -642.519685      -29309.616706       -62663.225034  \n",
      "2018-03-22       -6180.485339     -238706.333051      -379233.158621  \n",
      "2018-03-23       -3756.113466     -314357.878376      -362757.357983  \n",
      "2018-03-26       12899.581312      403193.452620       537570.590059  \n",
      "2018-03-27      -12274.075230     -377990.307611      -418452.832843  \n",
      "\n",
      "[1820 rows x 6 columns]\n"
     ]
    }
   ],
   "source": [
    "print(value_ptf)"
   ]
  },
  {
   "cell_type": "code",
   "execution_count": 24,
   "metadata": {},
   "outputs": [],
   "source": [
    "ptf_percentage = value_ptf['Value of Portfolio']\n",
    "ptf_percentage = ptf_percentage.sort_values(axis=0, ascending=True)"
   ]
  },
  {
   "cell_type": "code",
   "execution_count": 25,
   "metadata": {},
   "outputs": [
    {
     "name": "stdout",
     "output_type": "stream",
     "text": [
      "99.99% Actual loss won't exceedd: -1841650.69\n",
      "99% Actual loss won't exceed: -665155.08\n",
      "95% Actual loss won't exceed: -340265.51\n",
      "Losses expected to exceed -340265.51 91.0 out of 1820 days\n"
     ]
    }
   ],
   "source": [
    "VaR =  np.percentile(ptf_percentage, .01)\n",
    "VaR1 =  np.percentile(ptf_percentage, 1)\n",
    "VaR2 =  np.percentile(ptf_percentage, 5)\n",
    "\n",
    "print (\"99.99% Actual loss won't exceedd: \" + str(round(VaR, 2)))\n",
    "print (\"99% Actual loss won't exceed: \" + str(round(VaR1, 2)))\n",
    "print (\"95% Actual loss won't exceed: \" + str(round(VaR2, 2))) \n",
    "print (\"Losses expected to exceed \" + \"{0:.2f}\".format(VaR2) + \" \" + str(.05*len(ptf_percentage)) + \" out of \" + str(len(ptf_percentage)) + \" days\")\n",
    "percentage = percentage[1:]"
   ]
  },
  {
   "cell_type": "markdown",
   "metadata": {},
   "source": [
    "https://programmingforfinance.com/2018/04/value-at-risk-via-variance-covariance-method/"
   ]
  },
  {
   "cell_type": "markdown",
   "metadata": {},
   "source": [
    "https://financetrain.com/analytical-approach-to-calculating-var-variance-covariance-method/"
   ]
  },
  {
   "cell_type": "markdown",
   "metadata": {},
   "source": [
    "https://study.com/academy/lesson/variance-covariance-method-for-calculating-value-at-risk.html\n",
    "    "
   ]
  },
  {
   "cell_type": "markdown",
   "metadata": {},
   "source": [
    "http://firsttimeprogrammer.blogspot.com/2015/01/portfolio-var-with-python.html\n"
   ]
  }
 ],
 "metadata": {
  "kernelspec": {
   "display_name": "Python 3",
   "language": "python",
   "name": "python3"
  },
  "language_info": {
   "codemirror_mode": {
    "name": "ipython",
    "version": 3
   },
   "file_extension": ".py",
   "mimetype": "text/x-python",
   "name": "python",
   "nbconvert_exporter": "python",
   "pygments_lexer": "ipython3",
   "version": "3.7.4"
  }
 },
 "nbformat": 4,
 "nbformat_minor": 2
}
