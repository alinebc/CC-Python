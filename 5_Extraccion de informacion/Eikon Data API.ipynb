{
 "cells": [
  {
   "cell_type": "markdown",
   "metadata": {},
   "source": []
  },
  {
   "cell_type": "code",
   "execution_count": 1,
   "metadata": {},
   "outputs": [],
   "source": [
    "#Librerías requeridas\n",
    "import eikon as ek"
   ]
  },
  {
   "cell_type": "code",
   "execution_count": 3,
   "metadata": {},
   "outputs": [],
   "source": [
    "#Key para acceder a app \n",
    "ek.set_app_key('66346437a16f46ddb941eceefac3323c5b7cbf2d')"
   ]
  },
  {
   "cell_type": "code",
   "execution_count": 5,
   "metadata": {},
   "outputs": [
    {
     "data": {
      "text/html": [
       "<div>\n",
       "<style scoped>\n",
       "    .dataframe tbody tr th:only-of-type {\n",
       "        vertical-align: middle;\n",
       "    }\n",
       "\n",
       "    .dataframe tbody tr th {\n",
       "        vertical-align: top;\n",
       "    }\n",
       "\n",
       "    .dataframe thead th {\n",
       "        text-align: right;\n",
       "    }\n",
       "</style>\n",
       "<table border=\"1\" class=\"dataframe\">\n",
       "  <thead>\n",
       "    <tr style=\"text-align: right;\">\n",
       "      <th></th>\n",
       "      <th>versionCreated</th>\n",
       "      <th>text</th>\n",
       "      <th>storyId</th>\n",
       "      <th>sourceCode</th>\n",
       "    </tr>\n",
       "  </thead>\n",
       "  <tbody>\n",
       "    <tr>\n",
       "      <td>2019-03-06 16:25:57.469</td>\n",
       "      <td>2019-03-06 16:25:57.469000+00:00</td>\n",
       "      <td>Condor oder Easyjet? Lufthansa-Chef schweigt z...</td>\n",
       "      <td>urn:newsml:reuters.com:20190306:nApa13JKJa:1</td>\n",
       "      <td>NS:APA</td>\n",
       "    </tr>\n",
       "    <tr>\n",
       "      <td>2019-03-06 16:12:41.000</td>\n",
       "      <td>2019-03-06 16:12:41+00:00</td>\n",
       "      <td>FOKUS 1-Condor oder Easyjet? Lufthansa-Chef sc...</td>\n",
       "      <td>urn:newsml:reuters.com:20190306:nL5N20T4GP:2</td>\n",
       "      <td>NS:RTRS</td>\n",
       "    </tr>\n",
       "    <tr>\n",
       "      <td>2019-03-06 14:43:24.000</td>\n",
       "      <td>2019-03-06 15:12:38+00:00</td>\n",
       "      <td>Major European airline executives believe ther...</td>\n",
       "      <td>urn:newsml:reuters.com:20190306:nL9N1Y106U:1</td>\n",
       "      <td>NS:RTRS</td>\n",
       "    </tr>\n",
       "    <tr>\n",
       "      <td>2019-03-06 14:23:21.000</td>\n",
       "      <td>2019-03-06 14:35:19.860000+00:00</td>\n",
       "      <td>RYANAIR CEO O'LEARY &lt;RYA.I&gt; SAYS INDUSTRY IS M...</td>\n",
       "      <td>urn:newsml:reuters.com:20190306:nL9N1Y106U:9</td>\n",
       "      <td>NS:RTRS</td>\n",
       "    </tr>\n",
       "    <tr>\n",
       "      <td>2019-03-06 14:23:21.000</td>\n",
       "      <td>2019-03-06 14:34:24.718000+00:00</td>\n",
       "      <td>IAG CEO &lt;ICAG.L&gt; WALSH SAYS DEMAND ENVIRONMENT...</td>\n",
       "      <td>urn:newsml:reuters.com:20190306:nL9N1Y106U:7</td>\n",
       "      <td>NS:RTRS</td>\n",
       "    </tr>\n",
       "    <tr>\n",
       "      <td>2019-03-06 14:23:21.000</td>\n",
       "      <td>2019-03-06 14:31:42.191000+00:00</td>\n",
       "      <td>AIRLINE CEOS FROM IAG &lt;ICAG.L&gt;, RYANAIR &lt;RYA.I...</td>\n",
       "      <td>urn:newsml:reuters.com:20190306:nL9N1Y106U:5</td>\n",
       "      <td>NS:RTRS</td>\n",
       "    </tr>\n",
       "    <tr>\n",
       "      <td>2019-03-06 13:32:48.060</td>\n",
       "      <td>2019-03-06 13:32:48.060000+00:00</td>\n",
       "      <td>Luftfahrt im Umbruch - Ryanair und Lufthansa s...</td>\n",
       "      <td>urn:newsml:reuters.com:20190306:nApa13J74a:1</td>\n",
       "      <td>NS:APA</td>\n",
       "    </tr>\n",
       "    <tr>\n",
       "      <td>2019-03-06 12:57:15.000</td>\n",
       "      <td>2019-03-06 13:21:34+00:00</td>\n",
       "      <td>Ryanair und Lufthansa - Zahl der Airlines wird...</td>\n",
       "      <td>urn:newsml:reuters.com:20190306:nL5N20T3YH:2</td>\n",
       "      <td>NS:RTRS</td>\n",
       "    </tr>\n",
       "    <tr>\n",
       "      <td>2019-03-06 12:57:15.000</td>\n",
       "      <td>2019-03-06 12:57:15+00:00</td>\n",
       "      <td>LUFTHANSA&lt;LHAG.DE&gt;-CHEF - KURZFRISTIGES WACHST...</td>\n",
       "      <td>urn:newsml:reuters.com:20190306:nL5N20T3YH:2</td>\n",
       "      <td>NS:RTRS</td>\n",
       "    </tr>\n",
       "    <tr>\n",
       "      <td>2019-03-06 12:21:56.000</td>\n",
       "      <td>2019-03-06 12:33:58+00:00</td>\n",
       "      <td>Lufthansa to be active in consolidation, no co...</td>\n",
       "      <td>urn:newsml:reuters.com:20190306:nL9N1Y106X:1</td>\n",
       "      <td>NS:RTRS</td>\n",
       "    </tr>\n",
       "  </tbody>\n",
       "</table>\n",
       "</div>"
      ],
      "text/plain": [
       "                                          versionCreated  \\\n",
       "2019-03-06 16:25:57.469 2019-03-06 16:25:57.469000+00:00   \n",
       "2019-03-06 16:12:41.000        2019-03-06 16:12:41+00:00   \n",
       "2019-03-06 14:43:24.000        2019-03-06 15:12:38+00:00   \n",
       "2019-03-06 14:23:21.000 2019-03-06 14:35:19.860000+00:00   \n",
       "2019-03-06 14:23:21.000 2019-03-06 14:34:24.718000+00:00   \n",
       "2019-03-06 14:23:21.000 2019-03-06 14:31:42.191000+00:00   \n",
       "2019-03-06 13:32:48.060 2019-03-06 13:32:48.060000+00:00   \n",
       "2019-03-06 12:57:15.000        2019-03-06 13:21:34+00:00   \n",
       "2019-03-06 12:57:15.000        2019-03-06 12:57:15+00:00   \n",
       "2019-03-06 12:21:56.000        2019-03-06 12:33:58+00:00   \n",
       "\n",
       "                                                                      text  \\\n",
       "2019-03-06 16:25:57.469  Condor oder Easyjet? Lufthansa-Chef schweigt z...   \n",
       "2019-03-06 16:12:41.000  FOKUS 1-Condor oder Easyjet? Lufthansa-Chef sc...   \n",
       "2019-03-06 14:43:24.000  Major European airline executives believe ther...   \n",
       "2019-03-06 14:23:21.000  RYANAIR CEO O'LEARY <RYA.I> SAYS INDUSTRY IS M...   \n",
       "2019-03-06 14:23:21.000  IAG CEO <ICAG.L> WALSH SAYS DEMAND ENVIRONMENT...   \n",
       "2019-03-06 14:23:21.000  AIRLINE CEOS FROM IAG <ICAG.L>, RYANAIR <RYA.I...   \n",
       "2019-03-06 13:32:48.060  Luftfahrt im Umbruch - Ryanair und Lufthansa s...   \n",
       "2019-03-06 12:57:15.000  Ryanair und Lufthansa - Zahl der Airlines wird...   \n",
       "2019-03-06 12:57:15.000  LUFTHANSA<LHAG.DE>-CHEF - KURZFRISTIGES WACHST...   \n",
       "2019-03-06 12:21:56.000  Lufthansa to be active in consolidation, no co...   \n",
       "\n",
       "                                                              storyId  \\\n",
       "2019-03-06 16:25:57.469  urn:newsml:reuters.com:20190306:nApa13JKJa:1   \n",
       "2019-03-06 16:12:41.000  urn:newsml:reuters.com:20190306:nL5N20T4GP:2   \n",
       "2019-03-06 14:43:24.000  urn:newsml:reuters.com:20190306:nL9N1Y106U:1   \n",
       "2019-03-06 14:23:21.000  urn:newsml:reuters.com:20190306:nL9N1Y106U:9   \n",
       "2019-03-06 14:23:21.000  urn:newsml:reuters.com:20190306:nL9N1Y106U:7   \n",
       "2019-03-06 14:23:21.000  urn:newsml:reuters.com:20190306:nL9N1Y106U:5   \n",
       "2019-03-06 13:32:48.060  urn:newsml:reuters.com:20190306:nApa13J74a:1   \n",
       "2019-03-06 12:57:15.000  urn:newsml:reuters.com:20190306:nL5N20T3YH:2   \n",
       "2019-03-06 12:57:15.000  urn:newsml:reuters.com:20190306:nL5N20T3YH:2   \n",
       "2019-03-06 12:21:56.000  urn:newsml:reuters.com:20190306:nL9N1Y106X:1   \n",
       "\n",
       "                        sourceCode  \n",
       "2019-03-06 16:25:57.469     NS:APA  \n",
       "2019-03-06 16:12:41.000    NS:RTRS  \n",
       "2019-03-06 14:43:24.000    NS:RTRS  \n",
       "2019-03-06 14:23:21.000    NS:RTRS  \n",
       "2019-03-06 14:23:21.000    NS:RTRS  \n",
       "2019-03-06 14:23:21.000    NS:RTRS  \n",
       "2019-03-06 13:32:48.060     NS:APA  \n",
       "2019-03-06 12:57:15.000    NS:RTRS  \n",
       "2019-03-06 12:57:15.000    NS:RTRS  \n",
       "2019-03-06 12:21:56.000    NS:RTRS  "
      ]
     },
     "execution_count": 5,
     "metadata": {},
     "output_type": "execute_result"
    }
   ],
   "source": [
    "#news headlines on Deutsche Lufthansa AG (equity RIC: LHAG.DE), between 09:00 and 18:00 GMT on the 5th of Apr 2017.\n",
    "\n",
    "ek.get_news_headlines('R:LHAG.DE', date_from='2019-03-06T09:00:00', date_to='2019-03-06T18:00:00')"
   ]
  },
  {
   "cell_type": "code",
   "execution_count": 6,
   "metadata": {},
   "outputs": [
    {
     "data": {
      "text/plain": [
       "'<div class=\"storyContent\" lang=\"en\"><pre>&gt; ANALYSIS-After slashing rates, U.S. Fed has more weapons to fight coronavirus     (<a href=\"reuters://REALTIME/verb=NewsStory/ric=nL1N2AX1UP\" data-type=\"storyId\" data-story-id=\"nL1N2AX1UP\" translate=\"no\" dir=\"ltr\">Full Story</a>)\\r\\n&gt; New BoE boss Bailey does not back immediate virus rate cut                        (<a href=\"reuters://REALTIME/verb=NewsStory/ric=nL8N2AX5KZ\" data-type=\"storyId\" data-story-id=\"nL8N2AX5KZ\" translate=\"no\" dir=\"ltr\">Full Story</a>)\\r\\n&gt; Data show U.S. economy on solid footing as coronavirus fears mount                (<a href=\"reuters://REALTIME/verb=NewsStory/ric=nL1N2AX0PB\" data-type=\"storyId\" data-story-id=\"nL1N2AX0PB\" translate=\"no\" dir=\"ltr\">Full Story</a>)\\r\\n&gt; ANALYSIS-Fragile safety net leaves U.S. economy vulnerable to coronavirus hit     (<a href=\"reuters://REALTIME/verb=NewsStory/ric=nL1N2AV2AG\" data-type=\"storyId\" data-story-id=\"nL1N2AV2AG\" translate=\"no\" dir=\"ltr\">Full Story</a>)\\r\\n&gt; Bank of Canada takes cue from Fed and others, slashes rates over coronavirus fears (<a href=\"reuters://REALTIME/verb=NewsStory/ric=nL1N2AV16Q\" data-type=\"storyId\" data-story-id=\"nL1N2AV16Q\" translate=\"no\" dir=\"ltr\">Full Story</a>)\\r\\n&gt; GLOBAL MARKETS-Stocks rally as Biden surge offsets coronavirus fears              (<a href=\"reuters://REALTIME/verb=NewsStory/ric=nL1N2AX1FJ\" data-type=\"storyId\" data-story-id=\"nL1N2AX1FJ\" translate=\"no\" dir=\"ltr\">Full Story</a>)\\r\\n&gt; IMF chief says coronavirus wipes out hopes for stronger growth in 2020            (<a href=\"reuters://REALTIME/verb=NewsStory/ric=nL1N2AX0RX\" data-type=\"storyId\" data-story-id=\"nL1N2AX0RX\" translate=\"no\" dir=\"ltr\">Full Story</a>)\\r\\n&gt; Coronavirus likely to dampen euro zone growth in 2020 - EU executive              (<a href=\"reuters://REALTIME/verb=NewsStory/ric=nL8N2AX76Z\" data-type=\"storyId\" data-story-id=\"nL8N2AX76Z\" translate=\"no\" dir=\"ltr\">Full Story</a>)\\r\\n&gt; UK Feb PMI points to best growth since Sept 2018 but coronavirus looms            (<a href=\"reuters://REALTIME/verb=NewsStory/ric=nZRN0008M8\" data-type=\"storyId\" data-story-id=\"nZRN0008M8\" translate=\"no\" dir=\"ltr\">Full Story</a>)\\r\\n&gt; Irish economy \\'operating at very high level of momentum\\' in Q4 -FM                (<a href=\"reuters://REALTIME/verb=NewsStory/ric=nS8N29I028\" data-type=\"storyId\" data-story-id=\"nS8N29I028\" translate=\"no\" dir=\"ltr\">Full Story</a>)\\r\\n&gt; Brazil 2020 economic outlook darkens after lowest GDP growth in three years       (<a href=\"reuters://REALTIME/verb=NewsStory/ric=nL1N2AX0DW\" data-type=\"storyId\" data-story-id=\"nL1N2AX0DW\" translate=\"no\" dir=\"ltr\">Full Story</a>)\\r\\n&gt; RBI may use unconventional tools to combat coronavirus impact, sources say        (<a href=\"reuters://REALTIME/verb=NewsStory/ric=nL4N2AX33A\" data-type=\"storyId\" data-story-id=\"nL4N2AX33A\" translate=\"no\" dir=\"ltr\">Full Story</a>)\\r\\n&gt; Oil gives up gains even as OPEC works on big output cut                           (<a href=\"reuters://REALTIME/verb=NewsStory/ric=nL4N2AX0V6\" data-type=\"storyId\" data-story-id=\"nL4N2AX0V6\" translate=\"no\" dir=\"ltr\">Full Story</a>)</pre><p class=\"line-break\"><br/></p><pre>...............................................................................</pre><p class=\"line-break\"><br/></p><p>For expanded, multimedia Reuters Top News visit:</p><ul class=\"bulleted-list arrowlist\"><li>Eikon: <a href=\"https://emea1.views.cp.thomsonreuters.com/Explorer/NEWSxTOPNEWS.aspx?page=SP_PAGE_014&group=SP_GROUP_014&pageName=CentralBanks%26GlobalEconomy\" data-type=\"url\" class=\"tr-link\" translate=\"no\">https://emea1.views.cp.thomsonreuters.com/Explorer/NEWSxTOPNEWS.aspx...</a></li><li>THOMSON ONE: visit topnews.thomsonone.com/topnews\\r\\n...............................................................................</li></ul><p>For news and data, double-click on the codes in brackets\\r\\nAccess to some items may depend on subscription</p><pre> For latest top breaking news across all markets                        [<a href=\"reuters://REALTIME/verb=Headlines/ric=NEWS1\" data-type=\"newsExpression\" data-expression=\"NEWS1\" translate=\"no\" dir=\"ltr\">NEWS1</a>]\\r\\n...............................................................................\\r\\n Key interest rates       [<a href=\"reuters://REALTIME/verb=Headlines/ric=INT/RATE\" data-type=\"newsExpression\" data-expression=\"INT/RATE\" translate=\"no\" dir=\"ltr\">INT/RATE</a>]    Global rate history       [<a href=\"reuters://REALTIME/verb=Headlines/ric=GLOBAL/INT\" data-type=\"newsExpression\" data-expression=\"GLOBAL/INT\" translate=\"no\" dir=\"ltr\">GLOBAL/INT</a>]\\r\\n Outlook for U.S. Federal Reserve policy                            [<a href=\"reuters://REALTIME/verb=Headlines/ric=FED/AHEAD\" data-type=\"newsExpression\" data-expression=\"FED/AHEAD\" translate=\"no\" dir=\"ltr\">FED/AHEAD</a>]\\r\\n...............................................................................\\r\\n UP-TO-THE-MINUTE HEADLINES\\r\\n Economic news                   [<a href=\"reuters://REALTIME/verb=Headlines/ric=M\" data-type=\"newsExpression\" data-expression=\"M\" translate=\"no\" dir=\"ltr\">M</a>]   Economic indicators              [<a href=\"reuters://REALTIME/verb=Headlines/ric=M-ECI\" data-type=\"newsExpression\" data-expression=\"M-ECI\" translate=\"no\" dir=\"ltr\">M-ECI</a>]\\r\\n G7 live indicators           &lt;<a href=\"reuters://REALTIME/Verb=FullQuote/ric=ECON\" data-type=\"ric\" data-ric=\"ECON\" translate=\"no\" dir=\"ltr\">ECON</a>&gt;   Central bank news                [<a href=\"reuters://REALTIME/verb=Headlines/ric=M-CEN\" data-type=\"newsExpression\" data-expression=\"M-CEN\" translate=\"no\" dir=\"ltr\">M-CEN</a>]\\r\\n U.S. company news               [<a href=\"reuters://REALTIME/verb=Headlines/ric=U\" data-type=\"newsExpression\" data-expression=\"U\" translate=\"no\" dir=\"ltr\">U</a>]   European companies            [<a href=\"reuters://REALTIME/verb=Headlines/ric=E-EUROPE\" data-type=\"newsExpression\" data-expression=\"E-EUROPE\" translate=\"no\" dir=\"ltr\">E-EUROPE</a>]\\r\\n Asian companies            [<a href=\"reuters://REALTIME/verb=Headlines/ric=E-ASIA\" data-type=\"newsExpression\" data-expression=\"E-ASIA\" translate=\"no\" dir=\"ltr\">E-ASIA</a>]   Mergers & acquisition            [<a href=\"reuters://REALTIME/verb=Headlines/ric=E-MRG\" data-type=\"newsExpression\" data-expression=\"E-MRG\" translate=\"no\" dir=\"ltr\">E-MRG</a>]</pre><p class=\"line-break\"><br/></p><p>LIVE PRICES & DATA</p><pre> World Stocks             &lt;<a href=\"reuters://REALTIME/Verb=FullQuote/ric=0#.INDEX\" data-type=\"ric\" data-ric=\"0#.INDEX\" translate=\"no\" dir=\"ltr\">0#.INDEX</a>&gt;   S&P 500                           &lt;<a href=\"reuters://REALTIME/Verb=FullQuote/ric=.SPX\" data-type=\"ric\" data-ric=\".SPX\" translate=\"no\" dir=\"ltr\">.SPX</a>&gt;\\r\\n Dow Jones Average            &lt;<a href=\"reuters://REALTIME/Verb=FullQuote/ric=.DJI\" data-type=\"ric\" data-ric=\".DJI\" translate=\"no\" dir=\"ltr\">.DJI</a>&gt;   NASDAQ                           &lt;<a href=\"reuters://REALTIME/Verb=FullQuote/ric=.IXIC\" data-type=\"ric\" data-ric=\".IXIC\" translate=\"no\" dir=\"ltr\">.IXIC</a>&gt;\\r\\n FTSEurofirst 300           &lt;<a href=\"reuters://REALTIME/Verb=FullQuote/ric=.FTEU3\" data-type=\"ric\" data-ric=\".FTEU3\" translate=\"no\" dir=\"ltr\">.FTEU3</a>&gt;   Nikkei                           &lt;<a href=\"reuters://REALTIME/Verb=FullQuote/ric=.N225\" data-type=\"ric\" data-ric=\".N225\" translate=\"no\" dir=\"ltr\">.N225</a>&gt;\\r\\n FTSE 100                    &lt;<a href=\"reuters://REALTIME/Verb=FullQuote/ric=.FTSE\" data-type=\"ric\" data-ric=\".FTSE\" translate=\"no\" dir=\"ltr\">.FTSE</a>&gt;   Currency rates              &lt;<a href=\"reuters://REALTIME/Verb=FullQuote/ric=EFX=\" data-type=\"ric\" data-ric=\"EFX=\" translate=\"no\" dir=\"ltr\">EFX=</a>&gt; &lt;<a href=\"reuters://REALTIME/Verb=FullQuote/ric=NFX=\" data-type=\"ric\" data-ric=\"NFX=\" translate=\"no\" dir=\"ltr\">NFX=</a>&gt;\\r\\n Debt            &lt;<a href=\"reuters://REALTIME/Verb=FullQuote/ric=0#USBMK=\" data-type=\"ric\" data-ric=\"0#USBMK=\" translate=\"no\" dir=\"ltr\">0#USBMK=</a>&gt; &lt;<a href=\"reuters://REALTIME/Verb=FullQuote/ric=EURIBOR\" data-type=\"ric\" data-ric=\"EURIBOR\" translate=\"no\" dir=\"ltr\">EURIBOR</a>&gt;   U.S. light crude oil              &lt;<a href=\"reuters://REALTIME/Verb=FullQuote/ric=CLc1\" data-type=\"ric\" data-ric=\"CLc1\" translate=\"no\" dir=\"ltr\">CLc1</a>&gt;\\r\\n Brent crude                 &lt;<a href=\"reuters://REALTIME/Verb=FullQuote/ric=LCOc1\" data-type=\"ric\" data-ric=\"LCOc1\" translate=\"no\" dir=\"ltr\">LCOc1</a>&gt;   Gold                              &lt;<a href=\"reuters://REALTIME/Verb=FullQuote/ric=XAU=\" data-type=\"ric\" data-ric=\"XAU=\" translate=\"no\" dir=\"ltr\">XAU=</a>&gt;\\r\\n ..............................................................................\\r\\n LATEST NEWS ON CENTRAL BANKS\\r\\n Central bank news             [<a href=\"reuters://REALTIME/verb=Headlines/ric=CEN\" data-type=\"newsExpression\" data-expression=\"CEN\" translate=\"no\" dir=\"ltr\">CEN</a>]   U.S. Federal Reserve               [<a href=\"reuters://REALTIME/verb=Headlines/ric=FED\" data-type=\"newsExpression\" data-expression=\"FED\" translate=\"no\" dir=\"ltr\">FED</a>]\\r\\n Bank of Japan                 [<a href=\"reuters://REALTIME/verb=Headlines/ric=BOJ\" data-type=\"newsExpression\" data-expression=\"BOJ\" translate=\"no\" dir=\"ltr\">BOJ</a>]   European Central Bank              [<a href=\"reuters://REALTIME/verb=Headlines/ric=ECB\" data-type=\"newsExpression\" data-expression=\"ECB\" translate=\"no\" dir=\"ltr\">ECB</a>]\\r\\n Swiss National Bank           [<a href=\"reuters://REALTIME/verb=Headlines/ric=SNB\" data-type=\"newsExpression\" data-expression=\"SNB\" translate=\"no\" dir=\"ltr\">SNB</a>]   Bank of England                    [<a href=\"reuters://REALTIME/verb=Headlines/ric=BOE\" data-type=\"newsExpression\" data-expression=\"BOE\" translate=\"no\" dir=\"ltr\">BOE</a>]\\r\\n All forex news                [<a href=\"reuters://REALTIME/verb=Headlines/ric=FRX\" data-type=\"newsExpression\" data-expression=\"FRX\" translate=\"no\" dir=\"ltr\">FRX</a>]   Economic indicators                [<a href=\"reuters://REALTIME/verb=Headlines/ric=ECI\" data-type=\"newsExpression\" data-expression=\"ECI\" translate=\"no\" dir=\"ltr\">ECI</a>]\\r\\n Central Bank index       &lt;<a href=\"reuters://REALTIME/Verb=FullQuote/ric=CENTRAL1\" data-type=\"ric\" data-ric=\"CENTRAL1\" translate=\"no\" dir=\"ltr\">CENTRAL1</a>&gt;   Central bank rates          &lt;<a href=\"reuters://REALTIME/Verb=FullQuote/ric=KEYRATES/1\" data-type=\"ric\" data-ric=\"KEYRATES/1\" translate=\"no\" dir=\"ltr\">KEYRATES/1</a>&gt;\\r\\n ..............................................................................\\r\\n KEY CENTRAL BANK WEB ADDRESSES\\r\\n U.S. Federal Reserve: <a href=\"http://www.federalreserve.gov/\" data-type=\"url\" class=\"tr-link\" translate=\"no\">http://www.federalreserve.gov/</a>\\r\\n Bank of Japan: <a href=\"http://www.boj.or.jp/en/index.htm\" data-type=\"url\" class=\"tr-link\" translate=\"no\">http://www.boj.or.jp/en/index.htm</a>\\r\\n European Central Bank: <a href=\"http://www.ecb.int/index.html\" data-type=\"url\" class=\"tr-link\" translate=\"no\">http://www.ecb.int/index.html</a>\\r\\n Bank of England: <a href=\"http://www.bankofengland.co.uk/\" data-type=\"url\" class=\"tr-link\" translate=\"no\">http://www.bankofengland.co.uk/</a>\\r\\n Bank of Canada: <a href=\"http://www.bankofcanada.ca/en/\" data-type=\"url\" class=\"tr-link\" translate=\"no\">http://www.bankofcanada.ca/en/</a>\\r\\n Swiss National Bank: <a href=\"http://www.snb.ch\" data-type=\"url\" class=\"tr-link\" translate=\"no\">http://www.snb.ch</a>\\r\\n ..............................................................................</pre><p>KEY MACROECONOMIC AND CENTRAL BANK EVENTS</p><pre>  Diary of major central bank events                                 [<a href=\"reuters://REALTIME/verb=Headlines/ric=CEN/DIARY\" data-type=\"newsExpression\" data-expression=\"CEN/DIARY\" translate=\"no\" dir=\"ltr\">CEN/DIARY</a>]\\r\\n  Diary of emerging market central bank events                        [<a href=\"reuters://REALTIME/verb=Headlines/ric=CEN/EMRG\" data-type=\"newsExpression\" data-expression=\"CEN/EMRG\" translate=\"no\" dir=\"ltr\">CEN/EMRG</a>]\\r\\n  Fed diary               [<a href=\"reuters://REALTIME/verb=Headlines/ric=FED/DIARY\" data-type=\"newsExpression\" data-expression=\"FED/DIARY\" translate=\"no\" dir=\"ltr\">FED/DIARY</a>]   ECB diary                    [<a href=\"reuters://REALTIME/verb=Headlines/ric=ECB/DIARY\" data-type=\"newsExpression\" data-expression=\"ECB/DIARY\" translate=\"no\" dir=\"ltr\">ECB/DIARY</a>]\\r\\n  Today\\'s FX market        [<a href=\"reuters://REALTIME/verb=Headlines/ric=MI/DIARY\" data-type=\"newsExpression\" data-expression=\"MI/DIARY\" translate=\"no\" dir=\"ltr\">MI/DIARY</a>]   Financial events             [<a href=\"reuters://REALTIME/verb=Headlines/ric=KEY/DIARY\" data-type=\"newsExpression\" data-expression=\"KEY/DIARY\" translate=\"no\" dir=\"ltr\">KEY/DIARY</a>]\\r\\n  Polling diary          [<a href=\"reuters://REALTIME/verb=Headlines/ric=POLL/DIARY\" data-type=\"newsExpression\" data-expression=\"POLL/DIARY\" translate=\"no\" dir=\"ltr\">POLL/DIARY</a>]   Diary index                  [<a href=\"reuters://REALTIME/verb=Headlines/ric=IND/DIARY\" data-type=\"newsExpression\" data-expression=\"IND/DIARY\" translate=\"no\" dir=\"ltr\">IND/DIARY</a>]\\r\\n ..............................................................................</pre><p>REUTERS POLLS</p><pre>  US fed funds rate           [<a href=\"reuters://REALTIME/verb=Headlines/ric=FED/R\" data-type=\"newsExpression\" data-expression=\"FED/R\" translate=\"no\" dir=\"ltr\">FED/R</a>]   ECB rates                      [<a href=\"reuters://REALTIME/verb=Headlines/ric=ECB/INT\" data-type=\"newsExpression\" data-expression=\"ECB/INT\" translate=\"no\" dir=\"ltr\">ECB/INT</a>]\\r\\n  British rates             [<a href=\"reuters://REALTIME/verb=Headlines/ric=BOE/INT\" data-type=\"newsExpression\" data-expression=\"BOE/INT\" translate=\"no\" dir=\"ltr\">BOE/INT</a>]   Canada rates                    [<a href=\"reuters://REALTIME/verb=Headlines/ric=CA/INT\" data-type=\"newsExpression\" data-expression=\"CA/INT\" translate=\"no\" dir=\"ltr\">CA/INT</a>]\\r\\n  Japan rates               [<a href=\"reuters://REALTIME/verb=Headlines/ric=BOJ/INT\" data-type=\"newsExpression\" data-expression=\"BOJ/INT\" translate=\"no\" dir=\"ltr\">BOJ/INT</a>]   China rates                   [<a href=\"reuters://REALTIME/verb=Headlines/ric=CNY/POLL\" data-type=\"newsExpression\" data-expression=\"CNY/POLL\" translate=\"no\" dir=\"ltr\">CNY/POLL</a>]\\r\\n  Australia rates            [<a href=\"reuters://REALTIME/verb=Headlines/ric=AU/INT\" data-type=\"newsExpression\" data-expression=\"AU/INT\" translate=\"no\" dir=\"ltr\">AU/INT</a>]   Swiss rates                    [<a href=\"reuters://REALTIME/verb=Headlines/ric=SNB/INT\" data-type=\"newsExpression\" data-expression=\"SNB/INT\" translate=\"no\" dir=\"ltr\">SNB/INT</a>]\\r\\n  Sweden rates               [<a href=\"reuters://REALTIME/verb=Headlines/ric=SE/INT\" data-type=\"newsExpression\" data-expression=\"SE/INT\" translate=\"no\" dir=\"ltr\">SE/INT</a>]   South Africa rates              [<a href=\"reuters://REALTIME/verb=Headlines/ric=ZA/INT\" data-type=\"newsExpression\" data-expression=\"ZA/INT\" translate=\"no\" dir=\"ltr\">ZA/INT</a>]\\r\\n  Top poll news               [<a href=\"reuters://REALTIME/verb=Headlines/ric=POLL/\" data-type=\"newsExpression\" data-expression=\"POLL/\" translate=\"no\" dir=\"ltr\">POLL/</a>]\\r\\n ..............................................................................\\r\\nTOP NEWS SUMMARIES ON OTHER SUBJECTS</pre><p class=\"line-break\"><br/></p><pre>  Front Page               [<a href=\"reuters://REALTIME/verb=Headlines/ric=TOP/NEWS\" data-type=\"newsExpression\" data-expression=\"TOP/NEWS\" translate=\"no\" dir=\"ltr\">TOP/NEWS</a>]   Central Banks & Global Economy [<a href=\"reuters://REALTIME/verb=Headlines/ric=TOP/CEN\" data-type=\"newsExpression\" data-expression=\"TOP/CEN\" translate=\"no\" dir=\"ltr\">TOP/CEN</a>]\\r\\n  World News                  [<a href=\"reuters://REALTIME/verb=Headlines/ric=TOP/G\" data-type=\"newsExpression\" data-expression=\"TOP/G\" translate=\"no\" dir=\"ltr\">TOP/G</a>]   Global Markets              [<a href=\"reuters://REALTIME/verb=Headlines/ric=TOP/GLOMKT\" data-type=\"newsExpression\" data-expression=\"TOP/GLOMKT\" translate=\"no\" dir=\"ltr\">TOP/GLOMKT</a>]\\r\\n  Foreign Exchange          [<a href=\"reuters://REALTIME/verb=Headlines/ric=TOP/FRX\" data-type=\"newsExpression\" data-expression=\"TOP/FRX\" translate=\"no\" dir=\"ltr\">TOP/FRX</a>]   Fixed Income                   [<a href=\"reuters://REALTIME/verb=Headlines/ric=TOP/DBT\" data-type=\"newsExpression\" data-expression=\"TOP/DBT\" translate=\"no\" dir=\"ltr\">TOP/DBT</a>]\\r\\n  Emerging Markets         [<a href=\"reuters://REALTIME/verb=Headlines/ric=TOP/EMRG\" data-type=\"newsExpression\" data-expression=\"TOP/EMRG\" translate=\"no\" dir=\"ltr\">TOP/EMRG</a>]   Financial Services             [<a href=\"reuters://REALTIME/verb=Headlines/ric=TOP/FIN\" data-type=\"newsExpression\" data-expression=\"TOP/FIN\" translate=\"no\" dir=\"ltr\">TOP/FIN</a>]\\r\\n  Investment Banking      [<a href=\"reuters://REALTIME/verb=Headlines/ric=TOP/DEALS\" data-type=\"newsExpression\" data-expression=\"TOP/DEALS\" translate=\"no\" dir=\"ltr\">TOP/DEALS</a>]   Wealth Mgmt-North America   [<a href=\"reuters://REALTIME/verb=Headlines/ric=TOP/WEALTH\" data-type=\"newsExpression\" data-expression=\"TOP/WEALTH\" translate=\"no\" dir=\"ltr\">TOP/WEALTH</a>]\\r\\n  IFR Markets              [<a href=\"reuters://REALTIME/verb=Headlines/ric=TOP/NOW2\" data-type=\"newsExpression\" data-expression=\"TOP/NOW2\" translate=\"no\" dir=\"ltr\">TOP/NOW2</a>]   U.S. Companies                 [<a href=\"reuters://REALTIME/verb=Headlines/ric=TOP/EQU\" data-type=\"newsExpression\" data-expression=\"TOP/EQU\" translate=\"no\" dir=\"ltr\">TOP/EQU</a>]\\r\\n  European Companies        [<a href=\"reuters://REALTIME/verb=Headlines/ric=TOP/EQE\" data-type=\"newsExpression\" data-expression=\"TOP/EQE\" translate=\"no\" dir=\"ltr\">TOP/EQE</a>]   Asian Companies                [<a href=\"reuters://REALTIME/verb=Headlines/ric=TOP/EQA\" data-type=\"newsExpression\" data-expression=\"TOP/EQA\" translate=\"no\" dir=\"ltr\">TOP/EQA</a>]\\r\\n  Commodities                [<a href=\"reuters://REALTIME/verb=Headlines/ric=TOP/CE\" data-type=\"newsExpression\" data-expression=\"TOP/CE\" translate=\"no\" dir=\"ltr\">TOP/CE</a>]   Energy                           [<a href=\"reuters://REALTIME/verb=Headlines/ric=TOP/O\" data-type=\"newsExpression\" data-expression=\"TOP/O\" translate=\"no\" dir=\"ltr\">TOP/O</a>]\\r\\n  Metals                    [<a href=\"reuters://REALTIME/verb=Headlines/ric=TOP/MTL\" data-type=\"newsExpression\" data-expression=\"TOP/MTL\" translate=\"no\" dir=\"ltr\">TOP/MTL</a>]   Agricultural Commodities       [<a href=\"reuters://REALTIME/verb=Headlines/ric=TOP/GRO\" data-type=\"newsExpression\" data-expression=\"TOP/GRO\" translate=\"no\" dir=\"ltr\">TOP/GRO</a>]\\r\\n  Global Gas Power & Gas    [<a href=\"reuters://REALTIME/verb=Headlines/ric=TOP/ELE\" data-type=\"newsExpression\" data-expression=\"TOP/ELE\" translate=\"no\" dir=\"ltr\">TOP/ELE</a>]   Industrials                  [<a href=\"reuters://REALTIME/verb=Headlines/ric=TOP/BASIC\" data-type=\"newsExpression\" data-expression=\"TOP/BASIC\" translate=\"no\" dir=\"ltr\">TOP/BASIC</a>]\\r\\n  Basic Mterials           [<a href=\"reuters://REALTIME/verb=Headlines/ric=TOP/BMAT\" data-type=\"newsExpression\" data-expression=\"TOP/BMAT\" translate=\"no\" dir=\"ltr\">TOP/BMAT</a>]   Healthcare                  [<a href=\"reuters://REALTIME/verb=Headlines/ric=TOP/HEALTH\" data-type=\"newsExpression\" data-expression=\"TOP/HEALTH\" translate=\"no\" dir=\"ltr\">TOP/HEALTH</a>]\\r\\n  Technology, Media,Telecoms [<a href=\"reuters://REALTIME/verb=Headlines/ric=TOP/TMT\" data-type=\"newsExpression\" data-expression=\"TOP/TMT\" translate=\"no\" dir=\"ltr\">TOP/TMT</a>]   Consumer Goods              [<a href=\"reuters://REALTIME/verb=Headlines/ric=TOP/RETAIL\" data-type=\"newsExpression\" data-expression=\"TOP/RETAIL\" translate=\"no\" dir=\"ltr\">TOP/RETAIL</a>]\\r\\n  Sport                     [<a href=\"reuters://REALTIME/verb=Headlines/ric=TOP/SPO\" data-type=\"newsExpression\" data-expression=\"TOP/SPO\" translate=\"no\" dir=\"ltr\">TOP/SPO</a>]   Lifestyle & Entertainment     [<a href=\"reuters://REALTIME/verb=Headlines/ric=TOP/LIFE\" data-type=\"newsExpression\" data-expression=\"TOP/LIFE\" translate=\"no\" dir=\"ltr\">TOP/LIFE</a>]\\r\\n  Top News Directory           [<a href=\"reuters://REALTIME/verb=Headlines/ric=TOP/\" data-type=\"newsExpression\" data-expression=\"TOP/\" translate=\"no\" dir=\"ltr\">TOP/</a>]</pre><p class=\"line-break\"><br/></p><p class=\"line-break\"><br/></p><p>REGIONAL TOP NEWS PAGES</p><p class=\"line-break\"><br/></p><pre>  Greater China              [<a href=\"reuters://REALTIME/verb=Headlines/ric=TOP/CN\" data-type=\"newsExpression\" data-expression=\"TOP/CN\" translate=\"no\" dir=\"ltr\">TOP/CN</a>]   Deutschland (in German)         [<a href=\"reuters://REALTIME/verb=Headlines/ric=TOP/DE\" data-type=\"newsExpression\" data-expression=\"TOP/DE\" translate=\"no\" dir=\"ltr\">TOP/DE</a>]\\r\\n  Britain & Ireland          [<a href=\"reuters://REALTIME/verb=Headlines/ric=TOP/GB\" data-type=\"newsExpression\" data-expression=\"TOP/GB\" translate=\"no\" dir=\"ltr\">TOP/GB</a>]   France (in French)             [<a href=\"reuters://REALTIME/verb=Headlines/ric=TOP/FRA\" data-type=\"newsExpression\" data-expression=\"TOP/FRA\" translate=\"no\" dir=\"ltr\">TOP/FRA</a>]\\r\\n  Canada                    [<a href=\"reuters://REALTIME/verb=Headlines/ric=TOP/CAN\" data-type=\"newsExpression\" data-expression=\"TOP/CAN\" translate=\"no\" dir=\"ltr\">TOP/CAN</a>]   Latin America                [<a href=\"reuters://REALTIME/verb=Headlines/ric=TOP/LATAM\" data-type=\"newsExpression\" data-expression=\"TOP/LATAM\" translate=\"no\" dir=\"ltr\">TOP/LATAM</a>]\\r\\n  Brazil (in Portuguese)     [<a href=\"reuters://REALTIME/verb=Headlines/ric=TOP/BR\" data-type=\"newsExpression\" data-expression=\"TOP/BR\" translate=\"no\" dir=\"ltr\">TOP/BR</a>]   Middle East & North Africa   [<a href=\"reuters://REALTIME/verb=Headlines/ric=TOP/MEAST\" data-type=\"newsExpression\" data-expression=\"TOP/MEAST\" translate=\"no\" dir=\"ltr\">TOP/MEAST</a>]\\r\\n  Africa                     [<a href=\"reuters://REALTIME/verb=Headlines/ric=TOP/ZA\" data-type=\"newsExpression\" data-expression=\"TOP/ZA\" translate=\"no\" dir=\"ltr\">TOP/ZA</a>]   Australia & New Zealand        [<a href=\"reuters://REALTIME/verb=Headlines/ric=TOP/ANZ\" data-type=\"newsExpression\" data-expression=\"TOP/ANZ\" translate=\"no\" dir=\"ltr\">TOP/ANZ</a>]\\r\\n  Reuters BREAKINGVIEWS          [<a href=\"reuters://REALTIME/verb=Headlines/ric=BRV\" data-type=\"newsExpression\" data-expression=\"BRV\" translate=\"no\" dir=\"ltr\">BRV</a>]\\r\\n.............................................................................</pre><p>GUIDES ON HOW TO FIND THE DATA AND NEWS INFORMATION YOU NEED</p><pre> | &lt;<a href=\"reuters://REALTIME/Verb=FullQuote/ric=REUTERS\" data-type=\"ric\" data-ric=\"REUTERS\" translate=\"no\" dir=\"ltr\">REUTERS</a>&gt;  | &lt;<a href=\"reuters://REALTIME/Verb=FullQuote/ric=NEWS\" data-type=\"ric\" data-ric=\"NEWS\" translate=\"no\" dir=\"ltr\">NEWS</a>&gt;   | &lt;<a href=\"reuters://REALTIME/Verb=FullQuote/ric=PHONE/HELP\" data-type=\"ric\" data-ric=\"PHONE/HELP\" translate=\"no\" dir=\"ltr\">PHONE/HELP</a>&gt;   | &lt;<a href=\"reuters://REALTIME/Verb=FullQuote/ric=USER/HELP\" data-type=\"ric\" data-ric=\"USER/HELP\" translate=\"no\" dir=\"ltr\">USER/HELP</a>&gt;   | &lt;<a href=\"reuters://REALTIME/Verb=FullQuote/ric=US/EQUITY\" data-type=\"ric\" data-ric=\"US/EQUITY\" translate=\"no\" dir=\"ltr\">US/EQUITY</a>&gt; |\\r\\n | &lt;<a href=\"reuters://REALTIME/Verb=FullQuote/ric=EQUITY\" data-type=\"ric\" data-ric=\"EQUITY\" translate=\"no\" dir=\"ltr\">EQUITY</a>&gt;   | &lt;<a href=\"reuters://REALTIME/Verb=FullQuote/ric=BONDS\" data-type=\"ric\" data-ric=\"BONDS\" translate=\"no\" dir=\"ltr\">BONDS</a>&gt;  | &lt;<a href=\"reuters://REALTIME/Verb=FullQuote/ric=MONEY\" data-type=\"ric\" data-ric=\"MONEY\" translate=\"no\" dir=\"ltr\">MONEY</a>&gt;        | &lt;<a href=\"reuters://REALTIME/Verb=FullQuote/ric=COMMODITY\" data-type=\"ric\" data-ric=\"COMMODITY\" translate=\"no\" dir=\"ltr\">COMMODITY</a>&gt;   | &lt;<a href=\"reuters://REALTIME/Verb=FullQuote/ric=SHIPPING\" data-type=\"ric\" data-ric=\"SHIPPING\" translate=\"no\" dir=\"ltr\">SHIPPING</a>&gt; |\\r\\n | &lt;<a href=\"reuters://REALTIME/Verb=FullQuote/ric=ENERGY\" data-type=\"ric\" data-ric=\"ENERGY\" translate=\"no\" dir=\"ltr\">ENERGY</a>&gt;   | &lt;<a href=\"reuters://REALTIME/Verb=FullQuote/ric=DERIV\" data-type=\"ric\" data-ric=\"DERIV\" translate=\"no\" dir=\"ltr\">DERIV</a>&gt;  | &lt;<a href=\"reuters://REALTIME/Verb=FullQuote/ric=TREASURY\" data-type=\"ric\" data-ric=\"TREASURY\" translate=\"no\" dir=\"ltr\">TREASURY</a>&gt;     |\\r\\n...............................................................................\\r\\nContact page editor: <a href=\"mailto:Bangalore-pages@thomsonreuters.com\" data-type=\"email\" translate=\"no\">Bangalore-pages@thomsonreuters.com</a>; phone +1 651 848 5900 or +91 80 6749\\r\\n1306</pre><p class=\"line-break\"><br/></p><pre>...............................................................................</pre><p class=\"line-break\"><br/></p><p class=\"tr-slugline\">Keywords: *TOP NEWS* CENTRAL BANKS & GLOBAL ECONOMY/</p></div>'"
      ]
     },
     "execution_count": 6,
     "metadata": {},
     "output_type": "execute_result"
    }
   ],
   "source": [
    "headlines = ek.get_news_headlines('EU AND POL',1)\n",
    "story_id = headlines.iat[0,2]\n",
    "ek.get_news_story(story_id)"
   ]
  },
  {
   "cell_type": "code",
   "execution_count": 7,
   "metadata": {},
   "outputs": [
    {
     "data": {
      "text/html": [
       "<div>\n",
       "<style scoped>\n",
       "    .dataframe tbody tr th:only-of-type {\n",
       "        vertical-align: middle;\n",
       "    }\n",
       "\n",
       "    .dataframe tbody tr th {\n",
       "        vertical-align: top;\n",
       "    }\n",
       "\n",
       "    .dataframe thead th {\n",
       "        text-align: right;\n",
       "    }\n",
       "</style>\n",
       "<table border=\"1\" class=\"dataframe\">\n",
       "  <thead>\n",
       "    <tr style=\"text-align: right;\">\n",
       "      <th></th>\n",
       "      <th>versionCreated</th>\n",
       "      <th>text</th>\n",
       "      <th>storyId</th>\n",
       "      <th>sourceCode</th>\n",
       "    </tr>\n",
       "  </thead>\n",
       "  <tbody>\n",
       "    <tr>\n",
       "      <td>2017-10-30 01:10:46</td>\n",
       "      <td>2020-03-04 21:12:10+00:00</td>\n",
       "      <td>*TOP NEWS*-Central Banks &amp; Global Economy</td>\n",
       "      <td>urn:newsml:reuters.com:20171030:nTOPNOW1:20</td>\n",
       "      <td>NS:RTRS</td>\n",
       "    </tr>\n",
       "  </tbody>\n",
       "</table>\n",
       "</div>"
      ],
      "text/plain": [
       "                               versionCreated  \\\n",
       "2017-10-30 01:10:46 2020-03-04 21:12:10+00:00   \n",
       "\n",
       "                                                          text  \\\n",
       "2017-10-30 01:10:46  *TOP NEWS*-Central Banks & Global Economy   \n",
       "\n",
       "                                                         storyId sourceCode  \n",
       "2017-10-30 01:10:46  urn:newsml:reuters.com:20171030:nTOPNOW1:20    NS:RTRS  "
      ]
     },
     "execution_count": 7,
     "metadata": {},
     "output_type": "execute_result"
    }
   ],
   "source": [
    "headlines"
   ]
  },
  {
   "cell_type": "code",
   "execution_count": 8,
   "metadata": {},
   "outputs": [
    {
     "data": {
      "text/plain": [
       "'urn:newsml:reuters.com:20171030:nTOPNOW1:20'"
      ]
     },
     "execution_count": 8,
     "metadata": {},
     "output_type": "execute_result"
    }
   ],
   "source": [
    "story_id"
   ]
  },
  {
   "cell_type": "code",
   "execution_count": 9,
   "metadata": {},
   "outputs": [
    {
     "data": {
      "text/html": [
       "<div>\n",
       "<style scoped>\n",
       "    .dataframe tbody tr th:only-of-type {\n",
       "        vertical-align: middle;\n",
       "    }\n",
       "\n",
       "    .dataframe tbody tr th {\n",
       "        vertical-align: top;\n",
       "    }\n",
       "\n",
       "    .dataframe thead th {\n",
       "        text-align: right;\n",
       "    }\n",
       "</style>\n",
       "<table border=\"1\" class=\"dataframe\">\n",
       "  <thead>\n",
       "    <tr style=\"text-align: right;\">\n",
       "      <th>MSFT.O</th>\n",
       "      <th>HIGH</th>\n",
       "      <th>CLOSE</th>\n",
       "      <th>LOW</th>\n",
       "      <th>OPEN</th>\n",
       "      <th>COUNT</th>\n",
       "      <th>VOLUME</th>\n",
       "    </tr>\n",
       "    <tr>\n",
       "      <th>Date</th>\n",
       "      <th></th>\n",
       "      <th></th>\n",
       "      <th></th>\n",
       "      <th></th>\n",
       "      <th></th>\n",
       "      <th></th>\n",
       "    </tr>\n",
       "  </thead>\n",
       "  <tbody>\n",
       "    <tr>\n",
       "      <td>2016-01-04</td>\n",
       "      <td>54.8000</td>\n",
       "      <td>54.80</td>\n",
       "      <td>53.39</td>\n",
       "      <td>54.32</td>\n",
       "      <td>272781.0</td>\n",
       "      <td>53777963.0</td>\n",
       "    </tr>\n",
       "    <tr>\n",
       "      <td>2016-01-05</td>\n",
       "      <td>55.3900</td>\n",
       "      <td>55.05</td>\n",
       "      <td>54.54</td>\n",
       "      <td>54.93</td>\n",
       "      <td>180637.0</td>\n",
       "      <td>34079674.0</td>\n",
       "    </tr>\n",
       "    <tr>\n",
       "      <td>2016-01-06</td>\n",
       "      <td>54.4001</td>\n",
       "      <td>54.05</td>\n",
       "      <td>53.64</td>\n",
       "      <td>54.32</td>\n",
       "      <td>225856.0</td>\n",
       "      <td>39518863.0</td>\n",
       "    </tr>\n",
       "    <tr>\n",
       "      <td>2016-01-07</td>\n",
       "      <td>53.4850</td>\n",
       "      <td>52.17</td>\n",
       "      <td>52.07</td>\n",
       "      <td>52.70</td>\n",
       "      <td>303271.0</td>\n",
       "      <td>56564852.0</td>\n",
       "    </tr>\n",
       "    <tr>\n",
       "      <td>2016-01-08</td>\n",
       "      <td>53.2800</td>\n",
       "      <td>52.33</td>\n",
       "      <td>52.15</td>\n",
       "      <td>52.37</td>\n",
       "      <td>261949.0</td>\n",
       "      <td>48753969.0</td>\n",
       "    </tr>\n",
       "  </tbody>\n",
       "</table>\n",
       "</div>"
      ],
      "text/plain": [
       "MSFT.O         HIGH  CLOSE    LOW   OPEN     COUNT      VOLUME\n",
       "Date                                                          \n",
       "2016-01-04  54.8000  54.80  53.39  54.32  272781.0  53777963.0\n",
       "2016-01-05  55.3900  55.05  54.54  54.93  180637.0  34079674.0\n",
       "2016-01-06  54.4001  54.05  53.64  54.32  225856.0  39518863.0\n",
       "2016-01-07  53.4850  52.17  52.07  52.70  303271.0  56564852.0\n",
       "2016-01-08  53.2800  52.33  52.15  52.37  261949.0  48753969.0"
      ]
     },
     "execution_count": 9,
     "metadata": {},
     "output_type": "execute_result"
    }
   ],
   "source": [
    "# The following commands return time series of daily price history for Microsoft Corp ordinary share between 1st of Jan and 10th of Jan 2016.\n",
    "df = ek.get_timeseries([\"MSFT.O\"], \n",
    "                       start_date=\"2016-01-01\",  \n",
    "                       end_date=\"2016-01-10\")\n",
    "df"
   ]
  },
  {
   "cell_type": "code",
   "execution_count": 10,
   "metadata": {},
   "outputs": [
    {
     "data": {
      "text/html": [
       "<div>\n",
       "<style scoped>\n",
       "    .dataframe tbody tr th:only-of-type {\n",
       "        vertical-align: middle;\n",
       "    }\n",
       "\n",
       "    .dataframe tbody tr th {\n",
       "        vertical-align: top;\n",
       "    }\n",
       "\n",
       "    .dataframe thead th {\n",
       "        text-align: right;\n",
       "    }\n",
       "</style>\n",
       "<table border=\"1\" class=\"dataframe\">\n",
       "  <thead>\n",
       "    <tr style=\"text-align: right;\">\n",
       "      <th></th>\n",
       "      <th>Instrument</th>\n",
       "      <th>Revenue</th>\n",
       "      <th>Gross Profit</th>\n",
       "    </tr>\n",
       "  </thead>\n",
       "  <tbody>\n",
       "    <tr>\n",
       "      <td>0</td>\n",
       "      <td>GOOG.O</td>\n",
       "      <td>161857000000</td>\n",
       "      <td>89961000000</td>\n",
       "    </tr>\n",
       "    <tr>\n",
       "      <td>1</td>\n",
       "      <td>MSFT.O</td>\n",
       "      <td>125843000000</td>\n",
       "      <td>82933000000</td>\n",
       "    </tr>\n",
       "    <tr>\n",
       "      <td>2</td>\n",
       "      <td>FB.O</td>\n",
       "      <td>70697000000</td>\n",
       "      <td>57927000000</td>\n",
       "    </tr>\n",
       "  </tbody>\n",
       "</table>\n",
       "</div>"
      ],
      "text/plain": [
       "  Instrument       Revenue  Gross Profit\n",
       "0     GOOG.O  161857000000   89961000000\n",
       "1     MSFT.O  125843000000   82933000000\n",
       "2       FB.O   70697000000   57927000000"
      ]
     },
     "execution_count": 10,
     "metadata": {},
     "output_type": "execute_result"
    }
   ],
   "source": [
    "#The following commands retrieve fundamental data - Revenue and Gross Profit - for Google, Microsoft abd Facebook\n",
    "df, err = ek.get_data(['GOOG.O','MSFT.O', 'FB.O'], \n",
    "                      [ 'TR.Revenue','TR.GrossProfit'])\n",
    "df"
   ]
  },
  {
   "cell_type": "code",
   "execution_count": 11,
   "metadata": {},
   "outputs": [],
   "source": [
    "err"
   ]
  },
  {
   "cell_type": "code",
   "execution_count": 12,
   "metadata": {},
   "outputs": [
    {
     "data": {
      "text/html": [
       "<div>\n",
       "<style scoped>\n",
       "    .dataframe tbody tr th:only-of-type {\n",
       "        vertical-align: middle;\n",
       "    }\n",
       "\n",
       "    .dataframe tbody tr th {\n",
       "        vertical-align: top;\n",
       "    }\n",
       "\n",
       "    .dataframe thead th {\n",
       "        text-align: right;\n",
       "    }\n",
       "</style>\n",
       "<table border=\"1\" class=\"dataframe\">\n",
       "  <thead>\n",
       "    <tr style=\"text-align: right;\">\n",
       "      <th></th>\n",
       "      <th>Instrument</th>\n",
       "      <th>Date</th>\n",
       "      <th>Revenue</th>\n",
       "      <th>Gross Profit</th>\n",
       "    </tr>\n",
       "  </thead>\n",
       "  <tbody>\n",
       "    <tr>\n",
       "      <td>0</td>\n",
       "      <td>GOOG.O</td>\n",
       "      <td>2019-12-31T00:00:00Z</td>\n",
       "      <td>144386.155420</td>\n",
       "      <td>80250.609660</td>\n",
       "    </tr>\n",
       "    <tr>\n",
       "      <td>1</td>\n",
       "      <td>GOOG.O</td>\n",
       "      <td>2018-12-31T00:00:00Z</td>\n",
       "      <td>119295.222480</td>\n",
       "      <td>67373.258400</td>\n",
       "    </tr>\n",
       "    <tr>\n",
       "      <td>2</td>\n",
       "      <td>GOOG.O</td>\n",
       "      <td>2017-12-31T00:00:00Z</td>\n",
       "      <td>92409.836550</td>\n",
       "      <td>54411.391920</td>\n",
       "    </tr>\n",
       "    <tr>\n",
       "      <td>3</td>\n",
       "      <td>MSFT.O</td>\n",
       "      <td>2019-06-30T00:00:00Z</td>\n",
       "      <td>110699.053380</td>\n",
       "      <td>72952.842780</td>\n",
       "    </tr>\n",
       "    <tr>\n",
       "      <td>4</td>\n",
       "      <td>MSFT.O</td>\n",
       "      <td>2018-06-30T00:00:00Z</td>\n",
       "      <td>94461.538400</td>\n",
       "      <td>61633.671580</td>\n",
       "    </tr>\n",
       "    <tr>\n",
       "      <td>5</td>\n",
       "      <td>MSFT.O</td>\n",
       "      <td>2017-06-30T00:00:00Z</td>\n",
       "      <td>84541.150530</td>\n",
       "      <td>54548.043300</td>\n",
       "    </tr>\n",
       "    <tr>\n",
       "      <td>6</td>\n",
       "      <td>FB.O</td>\n",
       "      <td>2019-12-31T00:00:00Z</td>\n",
       "      <td>63065.965820</td>\n",
       "      <td>51674.359620</td>\n",
       "    </tr>\n",
       "    <tr>\n",
       "      <td>7</td>\n",
       "      <td>FB.O</td>\n",
       "      <td>2018-12-31T00:00:00Z</td>\n",
       "      <td>48686.268960</td>\n",
       "      <td>40529.457360</td>\n",
       "    </tr>\n",
       "    <tr>\n",
       "      <td>8</td>\n",
       "      <td>FB.O</td>\n",
       "      <td>2017-12-31T00:00:00Z</td>\n",
       "      <td>33888.747330</td>\n",
       "      <td>29342.238390</td>\n",
       "    </tr>\n",
       "    <tr>\n",
       "      <td>9</td>\n",
       "      <td>AMZN.O</td>\n",
       "      <td>2019-12-31T00:00:00Z</td>\n",
       "      <td>250242.455320</td>\n",
       "      <td>102574.411160</td>\n",
       "    </tr>\n",
       "    <tr>\n",
       "      <td>10</td>\n",
       "      <td>AMZN.O</td>\n",
       "      <td>2018-12-31T00:00:00Z</td>\n",
       "      <td>203058.833040</td>\n",
       "      <td>81725.933520</td>\n",
       "    </tr>\n",
       "    <tr>\n",
       "      <td>11</td>\n",
       "      <td>AMZN.O</td>\n",
       "      <td>2017-12-31T00:00:00Z</td>\n",
       "      <td>148270.876260</td>\n",
       "      <td>54961.574520</td>\n",
       "    </tr>\n",
       "    <tr>\n",
       "      <td>12</td>\n",
       "      <td>TWTR.K</td>\n",
       "      <td>2019-12-31T00:00:00Z</td>\n",
       "      <td>3085.929028</td>\n",
       "      <td>2071.620233</td>\n",
       "    </tr>\n",
       "    <tr>\n",
       "      <td>13</td>\n",
       "      <td>TWTR.K</td>\n",
       "      <td>2018-12-31T00:00:00Z</td>\n",
       "      <td>2652.693659</td>\n",
       "      <td>1811.293475</td>\n",
       "    </tr>\n",
       "    <tr>\n",
       "      <td>14</td>\n",
       "      <td>TWTR.K</td>\n",
       "      <td>2017-12-31T00:00:00Z</td>\n",
       "      <td>2036.758479</td>\n",
       "      <td>1318.818536</td>\n",
       "    </tr>\n",
       "  </tbody>\n",
       "</table>\n",
       "</div>"
      ],
      "text/plain": [
       "   Instrument                  Date        Revenue   Gross Profit\n",
       "0      GOOG.O  2019-12-31T00:00:00Z  144386.155420   80250.609660\n",
       "1      GOOG.O  2018-12-31T00:00:00Z  119295.222480   67373.258400\n",
       "2      GOOG.O  2017-12-31T00:00:00Z   92409.836550   54411.391920\n",
       "3      MSFT.O  2019-06-30T00:00:00Z  110699.053380   72952.842780\n",
       "4      MSFT.O  2018-06-30T00:00:00Z   94461.538400   61633.671580\n",
       "5      MSFT.O  2017-06-30T00:00:00Z   84541.150530   54548.043300\n",
       "6        FB.O  2019-12-31T00:00:00Z   63065.965820   51674.359620\n",
       "7        FB.O  2018-12-31T00:00:00Z   48686.268960   40529.457360\n",
       "8        FB.O  2017-12-31T00:00:00Z   33888.747330   29342.238390\n",
       "9      AMZN.O  2019-12-31T00:00:00Z  250242.455320  102574.411160\n",
       "10     AMZN.O  2018-12-31T00:00:00Z  203058.833040   81725.933520\n",
       "11     AMZN.O  2017-12-31T00:00:00Z  148270.876260   54961.574520\n",
       "12     TWTR.K  2019-12-31T00:00:00Z    3085.929028    2071.620233\n",
       "13     TWTR.K  2018-12-31T00:00:00Z    2652.693659    1811.293475\n",
       "14     TWTR.K  2017-12-31T00:00:00Z    2036.758479    1318.818536"
      ]
     },
     "execution_count": 12,
     "metadata": {},
     "output_type": "execute_result"
    }
   ],
   "source": [
    "#You can specify additional parameters and request full year revenue and gross profit for the last two years scaled to millions and converted to Euros. E.g.\n",
    "\n",
    "df, err = ek.get_data(['GOOG.O', 'MSFT.O', 'FB.O', 'AMZN.O', 'TWTR.K'], \n",
    "                      ['TR.Revenue.date','TR.Revenue','TR.GrossProfit'],\n",
    "                      {'Scale': 6, 'SDate': 0, 'EDate': -2, 'FRQ': 'FY', 'Curn': 'EUR'})\n",
    "df"
   ]
  },
  {
   "cell_type": "code",
   "execution_count": 13,
   "metadata": {},
   "outputs": [
    {
     "data": {
      "text/html": [
       "<div>\n",
       "<style scoped>\n",
       "    .dataframe tbody tr th:only-of-type {\n",
       "        vertical-align: middle;\n",
       "    }\n",
       "\n",
       "    .dataframe tbody tr th {\n",
       "        vertical-align: top;\n",
       "    }\n",
       "\n",
       "    .dataframe thead th {\n",
       "        text-align: right;\n",
       "    }\n",
       "</style>\n",
       "<table border=\"1\" class=\"dataframe\">\n",
       "  <thead>\n",
       "    <tr style=\"text-align: right;\">\n",
       "      <th></th>\n",
       "      <th>Instrument</th>\n",
       "      <th>Revenue</th>\n",
       "      <th>Gross Profit</th>\n",
       "      <th>CF_LAST</th>\n",
       "    </tr>\n",
       "  </thead>\n",
       "  <tbody>\n",
       "    <tr>\n",
       "      <td>0</td>\n",
       "      <td>VOD.L</td>\n",
       "      <td>43666000000</td>\n",
       "      <td>13506000000</td>\n",
       "      <td>139.58</td>\n",
       "    </tr>\n",
       "    <tr>\n",
       "      <td>1</td>\n",
       "      <td>FB.O</td>\n",
       "      <td>70697000000</td>\n",
       "      <td>57927000000</td>\n",
       "      <td>191.76</td>\n",
       "    </tr>\n",
       "  </tbody>\n",
       "</table>\n",
       "</div>"
      ],
      "text/plain": [
       "  Instrument      Revenue  Gross Profit  CF_LAST\n",
       "0      VOD.L  43666000000   13506000000   139.58\n",
       "1       FB.O  70697000000   57927000000   191.76"
      ]
     },
     "execution_count": 13,
     "metadata": {},
     "output_type": "execute_result"
    }
   ],
   "source": [
    "# mix fundamental data with a snapshot of market data.\n",
    "df, err = ek.get_data(['VOD.L', 'FB.O'], \n",
    "                      [ 'TR.Revenue', 'TR.GrossProfit', 'CF_LAST'])\n",
    "df"
   ]
  },
  {
   "cell_type": "markdown",
   "metadata": {},
   "source": [
    "### Import and Versions"
   ]
  },
  {
   "cell_type": "code",
   "execution_count": 2,
   "metadata": {},
   "outputs": [],
   "source": [
    "import eikon as ek #The Eikon Python wrapper package\n",
    "import numpy as np\n",
    "import pandas as pd\n",
    "import cufflinks as cf\n",
    "import configparser as cp"
   ]
  },
  {
   "cell_type": "code",
   "execution_count": 3,
   "metadata": {},
   "outputs": [
    {
     "name": "stdout",
     "output_type": "stream",
     "text": [
      "3.7.4 (default, Aug  9 2019, 18:34:13) [MSC v.1915 64 bit (AMD64)]\n"
     ]
    }
   ],
   "source": [
    "import sys\n",
    "print(sys.version)"
   ]
  },
  {
   "cell_type": "code",
   "execution_count": 4,
   "metadata": {},
   "outputs": [
    {
     "data": {
      "text/plain": [
       "'1.1.2'"
      ]
     },
     "execution_count": 4,
     "metadata": {},
     "output_type": "execute_result"
    }
   ],
   "source": [
    "ek.__version__"
   ]
  },
  {
   "cell_type": "code",
   "execution_count": 6,
   "metadata": {},
   "outputs": [
    {
     "data": {
      "text/plain": [
       "'1.16.5'"
      ]
     },
     "execution_count": 6,
     "metadata": {},
     "output_type": "execute_result"
    }
   ],
   "source": [
    "np.__version__"
   ]
  },
  {
   "cell_type": "markdown",
   "metadata": {},
   "source": [
    "### Connecting to Eikon Data API"
   ]
  },
  {
   "cell_type": "code",
   "execution_count": 9,
   "metadata": {},
   "outputs": [],
   "source": [
    "ek.set_app_key('66346437a16f46ddb941eceefac3323c5b7cbf2d')"
   ]
  },
  {
   "cell_type": "code",
   "execution_count": 13,
   "metadata": {},
   "outputs": [],
   "source": [
    "#Obteniendo información histórica\n",
    "data = ek.get_timeseries('AAPL.O', #RIC de Apple \n",
    "                        fields ='*', #all fields\n",
    "                        start_date= '2017-01-01',\n",
    "                        end_date = '2017-12-31')"
   ]
  },
  {
   "cell_type": "code",
   "execution_count": 14,
   "metadata": {},
   "outputs": [
    {
     "data": {
      "text/html": [
       "<div>\n",
       "<style scoped>\n",
       "    .dataframe tbody tr th:only-of-type {\n",
       "        vertical-align: middle;\n",
       "    }\n",
       "\n",
       "    .dataframe tbody tr th {\n",
       "        vertical-align: top;\n",
       "    }\n",
       "\n",
       "    .dataframe thead th {\n",
       "        text-align: right;\n",
       "    }\n",
       "</style>\n",
       "<table border=\"1\" class=\"dataframe\">\n",
       "  <thead>\n",
       "    <tr style=\"text-align: right;\">\n",
       "      <th>AAPL.O</th>\n",
       "      <th>HIGH</th>\n",
       "      <th>CLOSE</th>\n",
       "      <th>LOW</th>\n",
       "      <th>OPEN</th>\n",
       "      <th>COUNT</th>\n",
       "      <th>VOLUME</th>\n",
       "    </tr>\n",
       "    <tr>\n",
       "      <th>Date</th>\n",
       "      <th></th>\n",
       "      <th></th>\n",
       "      <th></th>\n",
       "      <th></th>\n",
       "      <th></th>\n",
       "      <th></th>\n",
       "    </tr>\n",
       "  </thead>\n",
       "  <tbody>\n",
       "    <tr>\n",
       "      <td>2017-01-03</td>\n",
       "      <td>116.3300</td>\n",
       "      <td>116.15</td>\n",
       "      <td>114.76</td>\n",
       "      <td>115.80</td>\n",
       "      <td>158506.0</td>\n",
       "      <td>28781865.0</td>\n",
       "    </tr>\n",
       "    <tr>\n",
       "      <td>2017-01-04</td>\n",
       "      <td>116.5100</td>\n",
       "      <td>116.02</td>\n",
       "      <td>115.75</td>\n",
       "      <td>115.85</td>\n",
       "      <td>129946.0</td>\n",
       "      <td>21118116.0</td>\n",
       "    </tr>\n",
       "    <tr>\n",
       "      <td>2017-01-05</td>\n",
       "      <td>116.8642</td>\n",
       "      <td>116.61</td>\n",
       "      <td>115.81</td>\n",
       "      <td>115.92</td>\n",
       "      <td>136221.0</td>\n",
       "      <td>22193587.0</td>\n",
       "    </tr>\n",
       "    <tr>\n",
       "      <td>2017-01-06</td>\n",
       "      <td>118.1600</td>\n",
       "      <td>117.91</td>\n",
       "      <td>116.47</td>\n",
       "      <td>116.78</td>\n",
       "      <td>177880.0</td>\n",
       "      <td>31751900.0</td>\n",
       "    </tr>\n",
       "    <tr>\n",
       "      <td>2017-01-09</td>\n",
       "      <td>119.4300</td>\n",
       "      <td>118.99</td>\n",
       "      <td>117.94</td>\n",
       "      <td>117.95</td>\n",
       "      <td>184629.0</td>\n",
       "      <td>33561948.0</td>\n",
       "    </tr>\n",
       "  </tbody>\n",
       "</table>\n",
       "</div>"
      ],
      "text/plain": [
       "AAPL.O          HIGH   CLOSE     LOW    OPEN     COUNT      VOLUME\n",
       "Date                                                              \n",
       "2017-01-03  116.3300  116.15  114.76  115.80  158506.0  28781865.0\n",
       "2017-01-04  116.5100  116.02  115.75  115.85  129946.0  21118116.0\n",
       "2017-01-05  116.8642  116.61  115.81  115.92  136221.0  22193587.0\n",
       "2017-01-06  118.1600  117.91  116.47  116.78  177880.0  31751900.0\n",
       "2017-01-09  119.4300  118.99  117.94  117.95  184629.0  33561948.0"
      ]
     },
     "execution_count": 14,
     "metadata": {},
     "output_type": "execute_result"
    }
   ],
   "source": [
    "data.head()"
   ]
  },
  {
   "cell_type": "code",
   "execution_count": null,
   "metadata": {},
   "outputs": [],
   "source": []
  }
 ],
 "metadata": {
  "kernelspec": {
   "display_name": "Python 3",
   "language": "python",
   "name": "python3"
  },
  "language_info": {
   "codemirror_mode": {
    "name": "ipython",
    "version": 3
   },
   "file_extension": ".py",
   "mimetype": "text/x-python",
   "name": "python",
   "nbconvert_exporter": "python",
   "pygments_lexer": "ipython3",
   "version": "3.7.4"
  }
 },
 "nbformat": 4,
 "nbformat_minor": 2
}
