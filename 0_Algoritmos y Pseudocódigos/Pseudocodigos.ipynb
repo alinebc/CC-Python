{
 "cells": [
  {
   "cell_type": "markdown",
   "metadata": {},
   "source": [
    "# Pseudocódigos\n",
    "\n",
    "Un pseudocódigo es una descripción de alto nivel compacta e informal de principio operativo de un programa o algoritmo. Utiliza las convenciones estructurales de un lenguaje de programación real, pero está diseñado para la fácil y directa lectura humana. \n",
    "\n",
    "## ¿Por qué su relevancia al usar Python?\n",
    "\n",
    "Algunas de las razones por las cuales Python es un lenguaje atractivo:\n",
    "\n",
    "* ***Sintaxis simple.***\n",
    "Python es mundialmente conocido por lo fácil que resulta leerlo, **muchas veces no existen casi diferencias entre seudo código y Python.**\n",
    "\n",
    "* ***Ecosistema.***\n",
    "Python es mucho más que un lenguaje de programación, es todo un ecosistema en sí mismo; ya que podemos encontrar un sinnúmero de herramientas para realizar cualquier tipo de tareas. En éste  podemos encontrar **módulos para realizar** cálculos científicos, módulos para desarrollar aplicaciones webs, módulos para realizar tareas de administración de sistemas, módulos para trabajar con bases de datos; entre otros.\n",
    "\n",
    "* ***Integración.***\n",
    "Otras de las características por la que Python es también famoso, es por su **fácil integración con otros lenguajes** de programación. \n",
    "\n",
    "* ***Escalabilidad*** \n",
    "Beneficio general. Permite escalar los programas a realizar. \n",
    "\n",
    "\n",
    "### Estructura \n",
    "![ejemplo](Pseudocod.png)\n",
    "\n",
    "### Ejercicios\n"
   ]
  },
  {
   "cell_type": "markdown",
   "metadata": {},
   "source": [
    "#### Interés compuesto\n",
    "Tenemos\n",
    "$$C_{fn} = C_i * ( 1 + r )^n$$\n",
    "donde:\n",
    "* $C_{fn}$ = Capital al final del n-ésimo periodo\n",
    "* $C_{i}$ = Capital inicial\n",
    "* $r$ = Tasa de interés\n",
    "* $t$ = número de periodos"
   ]
  },
  {
   "cell_type": "markdown",
   "metadata": {},
   "source": [
    "#### Precio CETE\n",
    "Tenemos\n",
    "$$P =\\frac{Vn}{(1 + \\frac{r*t}{360})}$$\n",
    "donde:\n",
    "* $P$ = Precio del CETE \n",
    "* $VN$ = Valor nominal del título\n",
    "* $r$ = Tasa de rendimiento\n",
    "* $t$ = Plazo en días del CETE"
   ]
  }
 ],
 "metadata": {
  "kernelspec": {
   "display_name": "Python 3",
   "language": "python",
   "name": "python3"
  },
  "language_info": {
   "codemirror_mode": {
    "name": "ipython",
    "version": 3
   },
   "file_extension": ".py",
   "mimetype": "text/x-python",
   "name": "python",
   "nbconvert_exporter": "python",
   "pygments_lexer": "ipython3",
   "version": "3.6.5"
  }
 },
 "nbformat": 4,
 "nbformat_minor": 2
}
