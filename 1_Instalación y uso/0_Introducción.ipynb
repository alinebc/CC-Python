{
 "cells": [
  {
   "cell_type": "markdown",
   "metadata": {},
   "source": [
    "# Python for Data Science and Machine Learning"
   ]
  },
  {
   "cell_type": "markdown",
   "metadata": {},
   "source": [
    "Librerías que relevantes:\n",
    "* NumPy\n",
    "Una bibblioteca de cómputo scientífico para Python que nos permitirá trabajar con matrices de datos en Python.\n",
    "* SciPy\n",
    "* Pandas\n",
    "Biblioteca de análisis de datos que nos permite leerlos y manipular datos de muchas fuentes.\n",
    "* Seaborn\n",
    "Crear hermosos gráficos estadísticos\n",
    "* MatplotLib\n",
    "Visualización básica de los datos.\n",
    "* Plotly\n",
    "Gráficas interactivas\n",
    "* SciKit-Learn\n",
    "Implementar modelos de ML.\n",
    "* PySpark\n",
    "Trabajar con Big Data (AWS)"
   ]
  },
  {
   "cell_type": "markdown",
   "metadata": {},
   "source": [
    "### Referencias recomendadas\n",
    "\n",
    "* [An Introduction to Statistical Learning](http://faculty.marshall.usc.edu/gareth-james/ISL/)"
   ]
  }
 ],
 "metadata": {
  "kernelspec": {
   "display_name": "Python 3",
   "language": "python",
   "name": "python3"
  },
  "language_info": {
   "codemirror_mode": {
    "name": "ipython",
    "version": 3
   },
   "file_extension": ".py",
   "mimetype": "text/x-python",
   "name": "python",
   "nbconvert_exporter": "python",
   "pygments_lexer": "ipython3",
   "version": "3.7.4"
  }
 },
 "nbformat": 4,
 "nbformat_minor": 2
}
